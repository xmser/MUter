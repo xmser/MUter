{
 "cells": [
  {
   "cell_type": "code",
   "execution_count": 1,
   "metadata": {},
   "outputs": [
    {
     "name": "stderr",
     "output_type": "stream",
     "text": [
      "/home/ljj/anaconda3/envs/xms_torch/lib/python3.8/site-packages/tqdm/auto.py:22: TqdmWarning: IProgress not found. Please update jupyter and ipywidgets. See https://ipywidgets.readthedocs.io/en/stable/user_install.html\n",
      "  from .autonotebook import tqdm as notebook_tqdm\n"
     ]
    }
   ],
   "source": [
    "from Recorder import Recorder\n",
    "import matplotlib.pyplot as plt\n",
    "import seaborn as sns\n",
    "import numpy as np\n",
    "import os"
   ]
  },
  {
   "cell_type": "code",
   "execution_count": 2,
   "metadata": {},
   "outputs": [],
   "source": [
    "from TempArgs import args\n",
    "\n",
    "args = args()"
   ]
  },
  {
   "cell_type": "code",
   "execution_count": 3,
   "metadata": {},
   "outputs": [],
   "source": [
    "recorder = Recorder(args)\n",
    "\n",
    "recorder.load(times=0)"
   ]
  },
  {
   "cell_type": "code",
   "execution_count": 4,
   "metadata": {},
   "outputs": [
    {
     "data": {
      "text/plain": [
       "{'FGSM_0_Retrain': array([150.09704375, 150.83812499, 150.99843264, 149.94365859,\n",
       "        148.48405409, 145.47209334, 140.69482112]),\n",
       " 'FGSM_0_MUter': array([4.1724844 , 4.04255986, 5.83728266, 4.26951122, 5.08490944,\n",
       "        4.23844314])}"
      ]
     },
     "execution_count": 4,
     "metadata": {},
     "output_type": "execute_result"
    }
   ],
   "source": [
    "recorder.time_dict"
   ]
  },
  {
   "cell_type": "code",
   "execution_count": 5,
   "metadata": {},
   "outputs": [
    {
     "data": {
      "text/plain": [
       "{'FGSM_0_MUter': array([0.00107151, 0.00587148, 0.01227054, 0.01958683, 0.10564639,\n",
       "        0.05888154], dtype=float32),\n",
       " 'FGSM_0_Newton_delta': array([0.05166892, 0.15424113, 0.27041003, 0.37068707, 0.6148239 ,\n",
       "        1.0055091 ], dtype=float32),\n",
       " 'FGSM_0_Influence_delta': array([0.04845187, 0.1463221 , 0.25819048, 0.35477945, 0.5894723 ,\n",
       "        0.9295461 ], dtype=float32),\n",
       " 'FGSM_0_Fisher_delta': array([0.06159187, 0.18320851, 0.37980402, 0.505895  , 0.702225  ,\n",
       "        1.1531616 ], dtype=float32),\n",
       " 'FGSM_0_Newton': array([0.04279228, 0.11307509, 0.20802613, 0.29271302, 0.4656518 ,\n",
       "        0.71273184], dtype=float32),\n",
       " 'FGSM_0_Influence': array([0.03957459, 0.10726339, 0.19757119, 0.27810413, 0.43865854,\n",
       "        0.6394085 ], dtype=float32),\n",
       " 'FGSM_0_Fisher': array([0.06099609, 0.15487711, 0.2738755 , 0.41601917, 0.82210016,\n",
       "        1.3065295 ], dtype=float32)}"
      ]
     },
     "execution_count": 5,
     "metadata": {},
     "output_type": "execute_result"
    }
   ],
   "source": [
    "recorder.distance_dict"
   ]
  },
  {
   "cell_type": "code",
   "execution_count": 6,
   "metadata": {},
   "outputs": [
    {
     "data": {
      "text/plain": [
       "{'FGSM_0_retrain': array([0.827, 0.838, 0.829, 0.835, 0.835, 0.832, 0.84 ]),\n",
       " 'FGSM_0_MUter': array([0.839, 0.833, 0.832, 0.831, 0.836, 0.843]),\n",
       " 'FGSM_0_Newton_delta': array([0.838, 0.835, 0.83 , 0.812, 0.804, 0.778]),\n",
       " 'FGSM_0_Influence_delta': array([0.838, 0.835, 0.829, 0.814, 0.805, 0.78 ]),\n",
       " 'FGSM_0_Fisher_delta': array([0.837, 0.829, 0.829, 0.822, 0.816, 0.802]),\n",
       " 'FGSM_0_Newton': array([0.839, 0.833, 0.824, 0.822, 0.806, 0.767]),\n",
       " 'FGSM_0_Influence': array([0.839, 0.833, 0.824, 0.822, 0.812, 0.776]),\n",
       " 'FGSM_0_Fisher': array([0.837, 0.833, 0.823, 0.821, 0.824, 0.788])}"
      ]
     },
     "execution_count": 6,
     "metadata": {},
     "output_type": "execute_result"
    }
   ],
   "source": [
    "recorder.clean_acc_dict"
   ]
  },
  {
   "cell_type": "code",
   "execution_count": 7,
   "metadata": {},
   "outputs": [
    {
     "data": {
      "text/plain": [
       "{'FGSM_0_retrain': array([0.635, 0.634, 0.63 , 0.629, 0.624, 0.633, 0.651]),\n",
       " 'FGSM_0_MUter': array([0.638, 0.62 , 0.633, 0.627, 0.638, 0.652]),\n",
       " 'FGSM_0_Newton_delta': array([0.632, 0.623, 0.617, 0.613, 0.607, 0.547]),\n",
       " 'FGSM_0_Influence_delta': array([0.632, 0.624, 0.617, 0.609, 0.608, 0.558]),\n",
       " 'FGSM_0_Fisher_delta': array([0.634, 0.621, 0.616, 0.624, 0.607, 0.554]),\n",
       " 'FGSM_0_Newton': array([0.635, 0.624, 0.628, 0.624, 0.618, 0.567]),\n",
       " 'FGSM_0_Influence': array([0.638, 0.62 , 0.621, 0.618, 0.614, 0.582]),\n",
       " 'FGSM_0_Fisher': array([0.633, 0.624, 0.624, 0.619, 0.59 , 0.523])}"
      ]
     },
     "execution_count": 7,
     "metadata": {},
     "output_type": "execute_result"
    }
   ],
   "source": [
    "recorder.perturbed_acc_dict"
   ]
  },
  {
   "cell_type": "code",
   "execution_count": 8,
   "metadata": {},
   "outputs": [
    {
     "name": "stdout",
     "output_type": "stream",
     "text": [
      "Finishing plot Figures.\n"
     ]
    }
   ],
   "source": [
    "from utils import DrawFig\n",
    "\n",
    "DrawFig(args)"
   ]
  }
 ],
 "metadata": {
  "kernelspec": {
   "display_name": "Python 3.8.13 ('xms_torch')",
   "language": "python",
   "name": "python3"
  },
  "language_info": {
   "codemirror_mode": {
    "name": "ipython",
    "version": 3
   },
   "file_extension": ".py",
   "mimetype": "text/x-python",
   "name": "python",
   "nbconvert_exporter": "python",
   "pygments_lexer": "ipython3",
   "version": "3.8.13"
  },
  "orig_nbformat": 4,
  "vscode": {
   "interpreter": {
    "hash": "419209cf9e31416c5930fc7553ba605783d1608c64e9bc9d407f3ec9a261c809"
   }
  }
 },
 "nbformat": 4,
 "nbformat_minor": 2
}
