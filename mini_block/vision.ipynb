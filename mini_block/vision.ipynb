{
 "cells": [
  {
   "cell_type": "code",
   "execution_count": 1,
   "metadata": {},
   "outputs": [
    {
     "name": "stderr",
     "output_type": "stream",
     "text": [
      "/home/ljj/anaconda3/envs/xms_torch/lib/python3.8/site-packages/tqdm/auto.py:22: TqdmWarning: IProgress not found. Please update jupyter and ipywidgets. See https://ipywidgets.readthedocs.io/en/stable/user_install.html\n",
      "  from .autonotebook import tqdm as notebook_tqdm\n"
     ]
    }
   ],
   "source": [
    "from Recorder import Recorder\n",
    "import matplotlib.pyplot as plt\n",
    "import numpy as np"
   ]
  },
  {
   "cell_type": "code",
   "execution_count": 2,
   "metadata": {},
   "outputs": [],
   "source": [
    "from TempArgs import args\n",
    "\n",
    "args = args()"
   ]
  },
  {
   "cell_type": "code",
   "execution_count": 3,
   "metadata": {},
   "outputs": [
    {
     "name": "stdout",
     "output_type": "stream",
     "text": [
      "0.1\n"
     ]
    }
   ],
   "source": [
    "print(args.lr)"
   ]
  },
  {
   "cell_type": "code",
   "execution_count": 4,
   "metadata": {},
   "outputs": [],
   "source": [
    "recorder = Recorder(args)\n",
    "\n",
    "recorder.load()"
   ]
  },
  {
   "cell_type": "code",
   "execution_count": 5,
   "metadata": {},
   "outputs": [
    {
     "data": {
      "text/plain": [
       "{'MUter': array([39.9906311 , 39.1366725 , 38.93566108, 42.11189985, 43.30603862])}"
      ]
     },
     "execution_count": 5,
     "metadata": {},
     "output_type": "execute_result"
    }
   ],
   "source": [
    "recorder.time_dict"
   ]
  },
  {
   "cell_type": "code",
   "execution_count": 6,
   "metadata": {},
   "outputs": [
    {
     "data": {
      "text/plain": [
       "{'MUter': array([2299.7153, 2210.308 , 2170.884 , 2805.5378, 2997.7693],\n",
       "       dtype=float32),\n",
       " 'Newton_delta': array([1.4639827, 3.1635416, 4.7553287, 7.0484896, 9.993558 ],\n",
       "       dtype=float32),\n",
       " 'Influence_delta': array([1.5215276, 3.2473102, 4.899544 , 7.0680695, 9.912717 ],\n",
       "       dtype=float32),\n",
       " 'Fisher_delta': array([0.84100676, 1.9805448 , 3.319854  , 5.008059  , 7.002715  ],\n",
       "       dtype=float32),\n",
       " 'Newton': array([0.6117029, 1.3636633, 2.2912521, 3.4349406, 4.779001 ],\n",
       "       dtype=float32),\n",
       " 'Influence': array([0.59541076, 1.3045267 , 2.2000008 , 3.3047693 , 4.604202  ],\n",
       "       dtype=float32),\n",
       " 'Fisher': array([ 1.4306939,  3.4898179,  6.151016 ,  9.436778 , 25.76068  ],\n",
       "       dtype=float32)}"
      ]
     },
     "execution_count": 6,
     "metadata": {},
     "output_type": "execute_result"
    }
   ],
   "source": [
    "recorder.distance_dict"
   ]
  },
  {
   "cell_type": "code",
   "execution_count": 7,
   "metadata": {},
   "outputs": [
    {
     "data": {
      "text/plain": [
       "{'MUter': array([0.1605, 0.1592, 0.1567, 0.114 , 0.1135]),\n",
       " 'Newton_delta': array([0.4564, 0.4406, 0.4113, 0.3684, 0.3156]),\n",
       " 'Influence_delta': array([0.4546, 0.4412, 0.4134, 0.3728, 0.3207]),\n",
       " 'Fisher_delta': array([0.4565, 0.4385, 0.4047, 0.3567, 0.2893]),\n",
       " 'Newton': array([0.4592, 0.4537, 0.4382, 0.4033, 0.3469]),\n",
       " 'Influence': array([0.459 , 0.4534, 0.4419, 0.4076, 0.3536]),\n",
       " 'Fisher': array([0.4521, 0.4085, 0.2875, 0.0983, 0.0058])}"
      ]
     },
     "execution_count": 7,
     "metadata": {},
     "output_type": "execute_result"
    }
   ],
   "source": [
    "recorder.perturbed_acc_dict"
   ]
  },
  {
   "cell_type": "code",
   "execution_count": 8,
   "metadata": {},
   "outputs": [
    {
     "data": {
      "text/plain": [
       "{'MUter': array([0.1765, 0.1742, 0.1708, 0.1225, 0.1212]),\n",
       " 'Newton_delta': array([0.843 , 0.8404, 0.8355, 0.8239, 0.8072]),\n",
       " 'Influence_delta': array([0.8429, 0.8409, 0.8359, 0.8252, 0.8093]),\n",
       " 'Fisher_delta': array([0.8429, 0.8403, 0.8358, 0.821 , 0.796 ]),\n",
       " 'Newton': array([0.8405, 0.8352, 0.8229, 0.8006, 0.7664]),\n",
       " 'Influence': array([0.8409, 0.8356, 0.8243, 0.8028, 0.7696]),\n",
       " 'Fisher': array([0.8411, 0.8267, 0.7847, 0.6377, 0.3019])}"
      ]
     },
     "execution_count": 8,
     "metadata": {},
     "output_type": "execute_result"
    }
   ],
   "source": [
    "recorder.clean_acc_dict"
   ]
  }
 ],
 "metadata": {
  "kernelspec": {
   "display_name": "Python 3.8.13 ('xms_torch')",
   "language": "python",
   "name": "python3"
  },
  "language_info": {
   "codemirror_mode": {
    "name": "ipython",
    "version": 3
   },
   "file_extension": ".py",
   "mimetype": "text/x-python",
   "name": "python",
   "nbconvert_exporter": "python",
   "pygments_lexer": "ipython3",
   "version": "3.8.13"
  },
  "orig_nbformat": 4,
  "vscode": {
   "interpreter": {
    "hash": "419209cf9e31416c5930fc7553ba605783d1608c64e9bc9d407f3ec9a261c809"
   }
  }
 },
 "nbformat": 4,
 "nbformat_minor": 2
}
