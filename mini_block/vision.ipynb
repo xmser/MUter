{
 "cells": [
  {
   "cell_type": "code",
   "execution_count": 1,
   "metadata": {},
   "outputs": [
    {
     "name": "stderr",
     "output_type": "stream",
     "text": [
      "/home/ljj/anaconda3/envs/xms_torch/lib/python3.8/site-packages/tqdm/auto.py:22: TqdmWarning: IProgress not found. Please update jupyter and ipywidgets. See https://ipywidgets.readthedocs.io/en/stable/user_install.html\n",
      "  from .autonotebook import tqdm as notebook_tqdm\n"
     ]
    }
   ],
   "source": [
    "from Recorder import Recorder\n",
    "import matplotlib.pyplot as plt\n",
    "import numpy as np"
   ]
  },
  {
   "cell_type": "code",
   "execution_count": 2,
   "metadata": {},
   "outputs": [],
   "source": [
    "from TempArgs import args\n",
    "\n",
    "args = args()"
   ]
  },
  {
   "cell_type": "code",
   "execution_count": 3,
   "metadata": {},
   "outputs": [
    {
     "name": "stdout",
     "output_type": "stream",
     "text": [
      "0.1\n"
     ]
    }
   ],
   "source": [
    "print(args.lr)"
   ]
  },
  {
   "cell_type": "code",
   "execution_count": 4,
   "metadata": {},
   "outputs": [],
   "source": [
    "recorder = Recorder(args)\n",
    "\n",
    "recorder.load()"
   ]
  },
  {
   "cell_type": "code",
   "execution_count": 5,
   "metadata": {},
   "outputs": [
    {
     "data": {
      "text/plain": [
       "{'MUter': array([0.00180635, 0.00626437, 0.01186638, 0.01978192, 0.03047257],\n",
       "       dtype=float32),\n",
       " 'Newton_delta': array([0.14631249, 0.33653936, 0.5902673 , 0.90937454, 1.3005873 ],\n",
       "       dtype=float32),\n",
       " 'Influence_delta': array([0.14317067, 0.33008894, 0.5778751 , 0.8893425 , 1.2713703 ],\n",
       "       dtype=float32),\n",
       " 'Fisher_delta': array([0.13954324, 0.31936285, 0.5577371 , 0.8585222 , 1.2342346 ],\n",
       "       dtype=float32),\n",
       " 'Newton': array([0.10570801, 0.2471846 , 0.4432496 , 0.68803114, 0.9994314 ],\n",
       "       dtype=float32),\n",
       " 'Influence': array([0.10301068, 0.24058083, 0.4315236 , 0.6695704 , 0.969991  ],\n",
       "       dtype=float32),\n",
       " 'Fisher': array([0.14983572, 0.36852884, 0.68612266, 1.139452  , 1.8888829 ],\n",
       "       dtype=float32)}"
      ]
     },
     "execution_count": 5,
     "metadata": {},
     "output_type": "execute_result"
    }
   ],
   "source": [
    "recorder.distance_dict"
   ]
  },
  {
   "cell_type": "code",
   "execution_count": 6,
   "metadata": {},
   "outputs": [
    {
     "data": {
      "text/plain": [
       "{'MUter': array([0.46  , 0.4617, 0.4609, 0.4622, 0.4608]),\n",
       " 'Newton_delta': array([0.4596, 0.4555, 0.4437, 0.4263, 0.4029]),\n",
       " 'Influence_delta': array([0.4588, 0.4561, 0.4454, 0.4274, 0.4044]),\n",
       " 'Fisher_delta': array([0.4586, 0.4559, 0.4468, 0.4322, 0.4068]),\n",
       " 'Newton': array([0.4612, 0.4607, 0.4584, 0.4495, 0.4285]),\n",
       " 'Influence': array([0.4614, 0.4605, 0.457 , 0.4499, 0.432 ]),\n",
       " 'Fisher': array([0.4613, 0.4615, 0.4516, 0.3986, 0.1264])}"
      ]
     },
     "execution_count": 6,
     "metadata": {},
     "output_type": "execute_result"
    }
   ],
   "source": [
    "recorder.perturbed_acc_dict"
   ]
  },
  {
   "cell_type": "code",
   "execution_count": 7,
   "metadata": {},
   "outputs": [
    {
     "data": {
      "text/plain": [
       "{'MUter': array([0.8454, 0.8454, 0.8451, 0.8457, 0.8457]),\n",
       " 'Newton_delta': array([0.8459, 0.8457, 0.8443, 0.84  , 0.8337]),\n",
       " 'Influence_delta': array([0.8458, 0.8457, 0.8442, 0.8404, 0.8342]),\n",
       " 'Fisher_delta': array([0.8453, 0.8446, 0.8438, 0.8402, 0.8323]),\n",
       " 'Newton': array([0.8424, 0.8393, 0.8316, 0.8174, 0.7921]),\n",
       " 'Influence': array([0.8424, 0.8393, 0.8321, 0.819 , 0.7938]),\n",
       " 'Fisher': array([0.8437, 0.8387, 0.8278, 0.793 , 0.5366])}"
      ]
     },
     "execution_count": 7,
     "metadata": {},
     "output_type": "execute_result"
    }
   ],
   "source": [
    "recorder.clean_acc_dict"
   ]
  }
 ],
 "metadata": {
  "kernelspec": {
   "display_name": "Python 3.8.13 ('xms_torch')",
   "language": "python",
   "name": "python3"
  },
  "language_info": {
   "codemirror_mode": {
    "name": "ipython",
    "version": 3
   },
   "file_extension": ".py",
   "mimetype": "text/x-python",
   "name": "python",
   "nbconvert_exporter": "python",
   "pygments_lexer": "ipython3",
   "version": "3.8.13"
  },
  "orig_nbformat": 4,
  "vscode": {
   "interpreter": {
    "hash": "419209cf9e31416c5930fc7553ba605783d1608c64e9bc9d407f3ec9a261c809"
   }
  }
 },
 "nbformat": 4,
 "nbformat_minor": 2
}
