{
 "cells": [
  {
   "cell_type": "code",
   "execution_count": 90,
   "metadata": {},
   "outputs": [],
   "source": [
    "from Recorder import Recorder\n",
    "import matplotlib.pyplot as plt\n",
    "import numpy as np"
   ]
  },
  {
   "cell_type": "code",
   "execution_count": 91,
   "metadata": {},
   "outputs": [],
   "source": [
    "from TempArgs import args\n",
    "\n",
    "args = args()"
   ]
  },
  {
   "cell_type": "code",
   "execution_count": 92,
   "metadata": {},
   "outputs": [
    {
     "name": "stdout",
     "output_type": "stream",
     "text": [
      "0.1\n"
     ]
    }
   ],
   "source": [
    "print(args.lr)"
   ]
  },
  {
   "cell_type": "code",
   "execution_count": 93,
   "metadata": {},
   "outputs": [],
   "source": [
    "recorder = Recorder(args)\n",
    "\n",
    "recorder.load()"
   ]
  },
  {
   "cell_type": "code",
   "execution_count": 94,
   "metadata": {},
   "outputs": [
    {
     "data": {
      "text/plain": [
       "{'MUter': array([43.49416637, 42.34759641, 46.4541676 , 44.26863217])}"
      ]
     },
     "execution_count": 94,
     "metadata": {},
     "output_type": "execute_result"
    }
   ],
   "source": [
    "recorder.time_dict"
   ]
  },
  {
   "cell_type": "code",
   "execution_count": 95,
   "metadata": {},
   "outputs": [
    {
     "data": {
      "text/plain": [
       "{'MUter': array([1.1423249, 1.8285244, 2.848047 , 5.6584935], dtype=float32),\n",
       " 'Newton_delta': array([1.206248 , 1.9916276, 2.8215663, 3.7147233], dtype=float32),\n",
       " 'Influence_delta': array([1.1146185, 1.8613017, 2.6297927, 3.4696937], dtype=float32),\n",
       " 'Fisher_delta': array([1.3868308e+00, 8.0487055e+04, 3.0766790e+00, 4.1219578e+00],\n",
       "       dtype=float32),\n",
       " 'Newton': array([0.91992193, 1.4953043 , 2.0249836 , 2.5519078 ], dtype=float32),\n",
       " 'Influence': array([0.83074784, 1.3627577 , 1.8597707 , 2.3445141 ], dtype=float32),\n",
       " 'Fisher': array([2.565101 , 4.184284 , 5.761613 , 7.2411156], dtype=float32)}"
      ]
     },
     "execution_count": 95,
     "metadata": {},
     "output_type": "execute_result"
    }
   ],
   "source": [
    "recorder.distance_dict"
   ]
  },
  {
   "cell_type": "code",
   "execution_count": 96,
   "metadata": {},
   "outputs": [
    {
     "data": {
      "text/plain": [
       "{'MUter': array([0.3559, 0.2829, 0.1652, 0.0575]),\n",
       " 'Newton_delta': array([0.4488, 0.433 , 0.4099, 0.3877]),\n",
       " 'Influence_delta': array([0.4497, 0.435 , 0.4157, 0.3945]),\n",
       " 'Fisher_delta': array([0.4469, 0.0421, 0.4047, 0.3785]),\n",
       " 'Newton': array([0.4592, 0.4514, 0.4419, 0.4267]),\n",
       " 'Influence': array([0.459 , 0.4539, 0.4471, 0.4331]),\n",
       " 'Fisher': array([0.4351, 0.3814, 0.2723, 0.1151])}"
      ]
     },
     "execution_count": 96,
     "metadata": {},
     "output_type": "execute_result"
    }
   ],
   "source": [
    "recorder.perturbed_acc_dict"
   ]
  },
  {
   "cell_type": "code",
   "execution_count": 97,
   "metadata": {},
   "outputs": [
    {
     "data": {
      "text/plain": [
       "{'MUter': array([0.8013, 0.7271, 0.6183, 0.3658]),\n",
       " 'Newton_delta': array([0.8425, 0.8407, 0.8364, 0.8302]),\n",
       " 'Influence_delta': array([0.8426, 0.8413, 0.8367, 0.8325]),\n",
       " 'Fisher_delta': array([0.8414, 0.0561, 0.8326, 0.8263]),\n",
       " 'Newton': array([0.8385, 0.8288, 0.8155, 0.7989]),\n",
       " 'Influence': array([0.8385, 0.8295, 0.8186, 0.8036]),\n",
       " 'Fisher': array([0.8351, 0.8134, 0.7685, 0.6635])}"
      ]
     },
     "execution_count": 97,
     "metadata": {},
     "output_type": "execute_result"
    }
   ],
   "source": [
    "recorder.clean_acc_dict"
   ]
  }
 ],
 "metadata": {
  "kernelspec": {
   "display_name": "Python 3.8.13 ('xms_torch')",
   "language": "python",
   "name": "python3"
  },
  "language_info": {
   "codemirror_mode": {
    "name": "ipython",
    "version": 3
   },
   "file_extension": ".py",
   "mimetype": "text/x-python",
   "name": "python",
   "nbconvert_exporter": "python",
   "pygments_lexer": "ipython3",
   "version": "3.8.13"
  },
  "orig_nbformat": 4,
  "vscode": {
   "interpreter": {
    "hash": "419209cf9e31416c5930fc7553ba605783d1608c64e9bc9d407f3ec9a261c809"
   }
  }
 },
 "nbformat": 4,
 "nbformat_minor": 2
}
