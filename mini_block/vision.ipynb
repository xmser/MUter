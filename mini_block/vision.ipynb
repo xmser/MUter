{
 "cells": [
  {
   "cell_type": "code",
   "execution_count": 234,
   "metadata": {},
   "outputs": [],
   "source": [
    "from Recorder import Recorder\n",
    "import matplotlib.pyplot as plt\n",
    "import numpy as np"
   ]
  },
  {
   "cell_type": "code",
   "execution_count": 235,
   "metadata": {},
   "outputs": [],
   "source": [
    "from TempArgs import args\n",
    "\n",
    "args = args()"
   ]
  },
  {
   "cell_type": "code",
   "execution_count": 236,
   "metadata": {},
   "outputs": [
    {
     "name": "stdout",
     "output_type": "stream",
     "text": [
      "0.1\n"
     ]
    }
   ],
   "source": [
    "print(args.lr)"
   ]
  },
  {
   "cell_type": "code",
   "execution_count": 237,
   "metadata": {},
   "outputs": [],
   "source": [
    "recorder = Recorder(args)\n",
    "\n",
    "recorder.load()"
   ]
  },
  {
   "cell_type": "code",
   "execution_count": 238,
   "metadata": {},
   "outputs": [
    {
     "data": {
      "text/plain": [
       "{'Retrain': array([2365.82666755, 2241.52143502, 2123.27459049, 2008.69156003]),\n",
       " 'MUter': array([45.07421112, 44.8737421 , 38.60196924, 41.77958131])}"
      ]
     },
     "execution_count": 238,
     "metadata": {},
     "output_type": "execute_result"
    }
   ],
   "source": [
    "recorder.time_dict"
   ]
  },
  {
   "cell_type": "code",
   "execution_count": 239,
   "metadata": {},
   "outputs": [
    {
     "data": {
      "text/plain": [
       "{'MUter': array([0.13210031, 0.1937344 , 1.1269393 , 0.28314012], dtype=float32),\n",
       " 'Newton_delta': array([0.84993  , 1.345637 , 1.8928195, 2.4063234], dtype=float32),\n",
       " 'Influence_delta': array([0.7735486, 1.276148 , 1.7652106, 2.2612083], dtype=float32),\n",
       " 'Fisher_delta': array([0.9674175, 1.5495226, 2.1234884, 2.7386835], dtype=float32),\n",
       " 'Newton': array([0.6353885, 1.0184118, 1.3676006, 1.7462564], dtype=float32),\n",
       " 'Influence': array([0.56964856, 0.92012554, 1.2716641 , 1.5901045 ], dtype=float32),\n",
       " 'Fisher': array([1.3621428, 2.229411 , 3.0664132, 3.933265 ], dtype=float32)}"
      ]
     },
     "execution_count": 239,
     "metadata": {},
     "output_type": "execute_result"
    }
   ],
   "source": [
    "recorder.distance_dict"
   ]
  },
  {
   "cell_type": "code",
   "execution_count": 240,
   "metadata": {},
   "outputs": [
    {
     "data": {
      "text/plain": [
       "{'MUter': array([0.4969, 0.4975, 0.4974, 0.4942]),\n",
       " 'Newton_delta': array([0.4886, 0.479 , 0.4664, 0.4471]),\n",
       " 'Influence_delta': array([0.4916, 0.4799, 0.4715, 0.4509]),\n",
       " 'Fisher_delta': array([0.4877, 0.4752, 0.4572, 0.4313]),\n",
       " 'Newton': array([0.493 , 0.487 , 0.4787, 0.4602]),\n",
       " 'Influence': array([0.4934, 0.4896, 0.4832, 0.4684]),\n",
       " 'Fisher': array([0.4778, 0.4363, 0.3501, 0.1808])}"
      ]
     },
     "execution_count": 240,
     "metadata": {},
     "output_type": "execute_result"
    }
   ],
   "source": [
    "recorder.perturbed_acc_dict"
   ]
  },
  {
   "cell_type": "code",
   "execution_count": 241,
   "metadata": {},
   "outputs": [
    {
     "data": {
      "text/plain": [
       "{'MUter': array([0.8581, 0.8562, 0.855 , 0.8546]),\n",
       " 'Newton_delta': array([0.855 , 0.8536, 0.8451, 0.8409]),\n",
       " 'Influence_delta': array([0.8558, 0.8539, 0.8464, 0.8418]),\n",
       " 'Fisher_delta': array([0.8556, 0.8528, 0.844 , 0.8388]),\n",
       " 'Newton': array([0.851 , 0.8413, 0.8254, 0.8091]),\n",
       " 'Influence': array([0.8515, 0.8428, 0.8276, 0.8142]),\n",
       " 'Fisher': array([0.8464, 0.8265, 0.7781, 0.6791])}"
      ]
     },
     "execution_count": 241,
     "metadata": {},
     "output_type": "execute_result"
    }
   ],
   "source": [
    "recorder.clean_acc_dict"
   ]
  }
 ],
 "metadata": {
  "kernelspec": {
   "display_name": "Python 3.8.13 ('xms_torch')",
   "language": "python",
   "name": "python3"
  },
  "language_info": {
   "codemirror_mode": {
    "name": "ipython",
    "version": 3
   },
   "file_extension": ".py",
   "mimetype": "text/x-python",
   "name": "python",
   "nbconvert_exporter": "python",
   "pygments_lexer": "ipython3",
   "version": "3.8.13"
  },
  "orig_nbformat": 4,
  "vscode": {
   "interpreter": {
    "hash": "419209cf9e31416c5930fc7553ba605783d1608c64e9bc9d407f3ec9a261c809"
   }
  }
 },
 "nbformat": 4,
 "nbformat_minor": 2
}
