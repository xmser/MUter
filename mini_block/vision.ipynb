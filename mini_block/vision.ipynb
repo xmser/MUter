{
 "cells": [
  {
   "cell_type": "code",
   "execution_count": 226,
   "metadata": {},
   "outputs": [],
   "source": [
    "from Recorder import Recorder\n",
    "import matplotlib.pyplot as plt\n",
    "import numpy as np"
   ]
  },
  {
   "cell_type": "code",
   "execution_count": 227,
   "metadata": {},
   "outputs": [],
   "source": [
    "from TempArgs import args\n",
    "\n",
    "args = args()"
   ]
  },
  {
   "cell_type": "code",
   "execution_count": 228,
   "metadata": {},
   "outputs": [
    {
     "name": "stdout",
     "output_type": "stream",
     "text": [
      "0.1\n"
     ]
    }
   ],
   "source": [
    "print(args.lr)"
   ]
  },
  {
   "cell_type": "code",
   "execution_count": 229,
   "metadata": {},
   "outputs": [],
   "source": [
    "recorder = Recorder(args)\n",
    "\n",
    "recorder.load()"
   ]
  },
  {
   "cell_type": "code",
   "execution_count": 230,
   "metadata": {},
   "outputs": [
    {
     "data": {
      "text/plain": [
       "{'Retrain': array([2365.82666755, 2241.52143502, 2123.27459049, 2008.69156003]),\n",
       " 'MUter': array([42.90590143, 41.50609565, 42.33760142, 41.88268685])}"
      ]
     },
     "execution_count": 230,
     "metadata": {},
     "output_type": "execute_result"
    }
   ],
   "source": [
    "recorder.time_dict"
   ]
  },
  {
   "cell_type": "code",
   "execution_count": 231,
   "metadata": {},
   "outputs": [
    {
     "data": {
      "text/plain": [
       "{'MUter': array([0.15905263, 0.4959509 , 0.64856493, 0.80445474], dtype=float32),\n",
       " 'Newton_delta': array([0.8625303, 1.4311974, 2.0356247, 2.6973898], dtype=float32),\n",
       " 'Influence_delta': array([0.79676694, 1.3503474 , 1.9079428 , 2.5096993 ], dtype=float32),\n",
       " 'Fisher_delta': array([0.90210664, 1.4771768 , 2.0602374 , 2.7071867 ], dtype=float32),\n",
       " 'Newton': array([0.63019764, 1.0269977 , 1.3715042 , 1.7148578 ], dtype=float32),\n",
       " 'Influence': array([0.5733032 , 0.93073756, 1.2635902 , 1.5892161 ], dtype=float32),\n",
       " 'Fisher': array([1.208225 , 1.9924359, 2.6116543, 3.352787 ], dtype=float32)}"
      ]
     },
     "execution_count": 231,
     "metadata": {},
     "output_type": "execute_result"
    }
   ],
   "source": [
    "recorder.distance_dict"
   ]
  },
  {
   "cell_type": "code",
   "execution_count": 232,
   "metadata": {},
   "outputs": [
    {
     "data": {
      "text/plain": [
       "{'MUter': array([0.4612, 0.4617, 0.4614, 0.4598]),\n",
       " 'Newton_delta': array([0.4502, 0.4375, 0.4151, 0.3932]),\n",
       " 'Influence_delta': array([0.4504, 0.4388, 0.4201, 0.3997]),\n",
       " 'Fisher_delta': array([0.4506, 0.435 , 0.4144, 0.3918]),\n",
       " 'Newton': array([0.4591, 0.4547, 0.4463, 0.4323]),\n",
       " 'Influence': array([0.4593, 0.4572, 0.4486, 0.4379]),\n",
       " 'Fisher': array([0.4463, 0.4136, 0.3573, 0.2474])}"
      ]
     },
     "execution_count": 232,
     "metadata": {},
     "output_type": "execute_result"
    }
   ],
   "source": [
    "recorder.perturbed_acc_dict"
   ]
  },
  {
   "cell_type": "code",
   "execution_count": 233,
   "metadata": {},
   "outputs": [
    {
     "data": {
      "text/plain": [
       "{'MUter': array([0.8457, 0.8448, 0.8444, 0.8441]),\n",
       " 'Newton_delta': array([0.8433, 0.8418, 0.8364, 0.832 ]),\n",
       " 'Influence_delta': array([0.8429, 0.8423, 0.8379, 0.8319]),\n",
       " 'Fisher_delta': array([0.8416, 0.8414, 0.8356, 0.828 ]),\n",
       " 'Newton': array([0.8374, 0.8296, 0.8175, 0.8007]),\n",
       " 'Influence': array([0.838 , 0.831 , 0.8207, 0.8042]),\n",
       " 'Fisher': array([0.8378, 0.819 , 0.7917, 0.735 ])}"
      ]
     },
     "execution_count": 233,
     "metadata": {},
     "output_type": "execute_result"
    }
   ],
   "source": [
    "recorder.clean_acc_dict"
   ]
  }
 ],
 "metadata": {
  "kernelspec": {
   "display_name": "Python 3.8.13 ('xms_torch')",
   "language": "python",
   "name": "python3"
  },
  "language_info": {
   "codemirror_mode": {
    "name": "ipython",
    "version": 3
   },
   "file_extension": ".py",
   "mimetype": "text/x-python",
   "name": "python",
   "nbconvert_exporter": "python",
   "pygments_lexer": "ipython3",
   "version": "3.8.13"
  },
  "orig_nbformat": 4,
  "vscode": {
   "interpreter": {
    "hash": "419209cf9e31416c5930fc7553ba605783d1608c64e9bc9d407f3ec9a261c809"
   }
  }
 },
 "nbformat": 4,
 "nbformat_minor": 2
}
