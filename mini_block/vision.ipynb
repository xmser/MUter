{
 "cells": [
  {
   "cell_type": "code",
   "execution_count": 1,
   "metadata": {},
   "outputs": [
    {
     "name": "stderr",
     "output_type": "stream",
     "text": [
      "/home/ljj/anaconda3/envs/xms_torch/lib/python3.8/site-packages/tqdm/auto.py:22: TqdmWarning: IProgress not found. Please update jupyter and ipywidgets. See https://ipywidgets.readthedocs.io/en/stable/user_install.html\n",
      "  from .autonotebook import tqdm as notebook_tqdm\n"
     ]
    }
   ],
   "source": [
    "from Recorder import Recorder\n",
    "import matplotlib.pyplot as plt\n",
    "import numpy as np"
   ]
  },
  {
   "cell_type": "code",
   "execution_count": 2,
   "metadata": {},
   "outputs": [],
   "source": [
    "from TempArgs import args\n",
    "\n",
    "args = args()"
   ]
  },
  {
   "cell_type": "code",
   "execution_count": 3,
   "metadata": {},
   "outputs": [],
   "source": [
    "# from utils import Drawing_summary\n",
    "\n",
    "# Drawing_summary(args)"
   ]
  },
  {
   "cell_type": "code",
   "execution_count": null,
   "metadata": {},
   "outputs": [],
   "source": []
  },
  {
   "cell_type": "code",
   "execution_count": 4,
   "metadata": {},
   "outputs": [],
   "source": [
    "# print(args.times)"
   ]
  },
  {
   "cell_type": "code",
   "execution_count": 5,
   "metadata": {},
   "outputs": [],
   "source": [
    "recorder = Recorder(args)\n",
    "recorder1 = Recorder(args)\n",
    "recorder2 = Recorder(args)\n",
    "\n",
    "recorder.load()\n",
    "recorder1.load(times=1)\n",
    "recorder2.load(times=2)"
   ]
  },
  {
   "cell_type": "code",
   "execution_count": 6,
   "metadata": {},
   "outputs": [],
   "source": [
    "# arr = [781.7968153, 744.29659891, 708.04927826, 668.75628304, 628.33459401]\n",
    "# for item in arr:\n",
    "#     recorder.metrics_time_record(method='Retrain', time=item)\n",
    "# recorder.save()"
   ]
  },
  {
   "cell_type": "code",
   "execution_count": 7,
   "metadata": {},
   "outputs": [
    {
     "data": {
      "text/plain": [
       "{'FGSM_0_Retrain': array([781.7968153 , 782.3480961 , 780.14153767, 775.83077431,\n",
       "        769.39919972, 760.96123886, 720.40520811]),\n",
       " 'FGSM_0_MUter': array([4.05171132, 4.25350261, 4.31869364, 4.18130255, 4.13270521,\n",
       "        5.39583087])}"
      ]
     },
     "execution_count": 7,
     "metadata": {},
     "output_type": "execute_result"
    }
   ],
   "source": [
    "recorder.time_dict"
   ]
  },
  {
   "cell_type": "code",
   "execution_count": 8,
   "metadata": {},
   "outputs": [
    {
     "data": {
      "text/plain": [
       "{'FGSM_0_Retrain': array([790.25400615, 794.68117642, 799.0895617 , 793.50976634,\n",
       "        791.7468462 , 838.99643469, 804.99354076]),\n",
       " 'FGSM_0_MUter': array([3.72794366, 3.80697536, 3.78680277, 3.88814116, 3.76031137,\n",
       "        3.8422873 ])}"
      ]
     },
     "execution_count": 8,
     "metadata": {},
     "output_type": "execute_result"
    }
   ],
   "source": [
    "recorder1.time_dict"
   ]
  },
  {
   "cell_type": "code",
   "execution_count": 9,
   "metadata": {},
   "outputs": [
    {
     "data": {
      "text/plain": [
       "{'FGSM_0_Retrain': array([873.45346141, 879.21497321, 871.8930912 , 868.27309704,\n",
       "        862.04439425, 844.55818367, 805.51556993]),\n",
       " 'FGSM_0_MUter': array([3.76849914, 3.88596892, 4.23302937, 3.87911439, 3.80878067,\n",
       "        3.53843045])}"
      ]
     },
     "execution_count": 9,
     "metadata": {},
     "output_type": "execute_result"
    }
   ],
   "source": [
    "recorder2.time_dict"
   ]
  },
  {
   "cell_type": "code",
   "execution_count": 10,
   "metadata": {},
   "outputs": [],
   "source": [
    "# recorder.distance_dict"
   ]
  },
  {
   "cell_type": "code",
   "execution_count": 11,
   "metadata": {},
   "outputs": [],
   "source": [
    "# recorder.perturbed_acc_dict"
   ]
  },
  {
   "cell_type": "code",
   "execution_count": 12,
   "metadata": {},
   "outputs": [],
   "source": [
    "# recorder.clean_acc_dict"
   ]
  },
  {
   "cell_type": "code",
   "execution_count": 13,
   "metadata": {},
   "outputs": [],
   "source": [
    "# recorder1.distance_dict"
   ]
  },
  {
   "cell_type": "code",
   "execution_count": 14,
   "metadata": {},
   "outputs": [],
   "source": [
    "# recorder1.clean_acc_dict"
   ]
  },
  {
   "cell_type": "code",
   "execution_count": 15,
   "metadata": {},
   "outputs": [],
   "source": [
    "# recorder1.perturbed_acc_dict"
   ]
  },
  {
   "cell_type": "code",
   "execution_count": 16,
   "metadata": {},
   "outputs": [],
   "source": [
    "# recorder1.time_dict"
   ]
  },
  {
   "cell_type": "code",
   "execution_count": 17,
   "metadata": {},
   "outputs": [],
   "source": [
    "# recorder2.distance_dict"
   ]
  },
  {
   "cell_type": "code",
   "execution_count": 18,
   "metadata": {},
   "outputs": [],
   "source": [
    "# recorder2.clean_acc_dict"
   ]
  },
  {
   "cell_type": "code",
   "execution_count": 19,
   "metadata": {},
   "outputs": [],
   "source": [
    "# recorder2.perturbed_acc_dict"
   ]
  },
  {
   "cell_type": "code",
   "execution_count": null,
   "metadata": {},
   "outputs": [],
   "source": [
    "# recorder2.time_dict"
   ]
  },
  {
   "cell_type": "code",
   "execution_count": null,
   "metadata": {},
   "outputs": [],
   "source": [
    "# from utils import acc_abs\n",
    "# acc_abs(recorder1)\n",
    "# acc_abs(recorder2)"
   ]
  },
  {
   "cell_type": "code",
   "execution_count": null,
   "metadata": {},
   "outputs": [],
   "source": [
    "# recorder1.clean_acc_dict"
   ]
  },
  {
   "cell_type": "code",
   "execution_count": null,
   "metadata": {},
   "outputs": [],
   "source": [
    "# recorder1.perturbed_acc_dict"
   ]
  },
  {
   "cell_type": "code",
   "execution_count": null,
   "metadata": {},
   "outputs": [],
   "source": [
    "# recorder2.clean_acc_dict"
   ]
  },
  {
   "cell_type": "code",
   "execution_count": null,
   "metadata": {},
   "outputs": [],
   "source": [
    "# recorder2.perturbed_acc_dict"
   ]
  },
  {
   "cell_type": "code",
   "execution_count": null,
   "metadata": {},
   "outputs": [],
   "source": [
    "# from utils import Transform_to_dataframe\n",
    "# import seaborn as sns\n",
    "\n",
    "# df1_clean_acc = Transform_to_dataframe(recorder1.clean_acc_dict, [1, 200, 500, 1000, 2000, 4000], args)\n",
    "# df2_clean_acc = Transform_to_dataframe(recorder2.clean_acc_dict, [1, 200, 500, 1000, 2000, 4000], args)\n",
    "\n"
   ]
  },
  {
   "cell_type": "code",
   "execution_count": null,
   "metadata": {},
   "outputs": [],
   "source": [
    "# import pandas as pd\n",
    "\n",
    "# df_acc = pd.concat((df1_clean_acc, df2_clean_acc), ignore_index=True)\n",
    "# df_acc"
   ]
  },
  {
   "cell_type": "code",
   "execution_count": null,
   "metadata": {},
   "outputs": [],
   "source": [
    "# from utils import bar_plot\n",
    "# bar_plot(df_acc, 'Acc')"
   ]
  },
  {
   "cell_type": "code",
   "execution_count": null,
   "metadata": {},
   "outputs": [],
   "source": [
    "# from utils import Transform_to_dataframe\n",
    "# import seaborn as sns\n"
   ]
  },
  {
   "cell_type": "code",
   "execution_count": null,
   "metadata": {},
   "outputs": [],
   "source": [
    "# # [1, 200, 500, 1000, 2000, 4000]\n",
    "# df = Transform_to_dataframe(recorder.distance_dict, [1, 200, 500, 1000, 2000, 4000], args)\n",
    "# df"
   ]
  },
  {
   "cell_type": "code",
   "execution_count": null,
   "metadata": {},
   "outputs": [],
   "source": [
    "# df1 = Transform_to_dataframe(recorder1.distance_dict, [1, 200, 500, 1000, 2000, 4000], args)\n",
    "# df1"
   ]
  },
  {
   "cell_type": "code",
   "execution_count": null,
   "metadata": {},
   "outputs": [],
   "source": [
    "# df2 = Transform_to_dataframe(recorder2.distance_dict, [1, 200, 500, 1000, 2000, 4000], args)\n",
    "# df2"
   ]
  },
  {
   "cell_type": "code",
   "execution_count": null,
   "metadata": {},
   "outputs": [],
   "source": [
    "# import pandas as pd\n",
    "\n",
    "# df_sum = pd.concat((df, df1, df2), ignore_index=True)\n",
    "# df_sum"
   ]
  },
  {
   "cell_type": "code",
   "execution_count": null,
   "metadata": {},
   "outputs": [],
   "source": [
    "# from utils import line_plot\n",
    "\n",
    "# line_plot(df_sum, metrics='Distance')"
   ]
  },
  {
   "cell_type": "code",
   "execution_count": null,
   "metadata": {},
   "outputs": [],
   "source": []
  },
  {
   "cell_type": "code",
   "execution_count": null,
   "metadata": {},
   "outputs": [],
   "source": [
    "# import copy\n",
    "# df_copy =  copy.deepcopy(df)\n",
    "# df_copy"
   ]
  },
  {
   "cell_type": "code",
   "execution_count": null,
   "metadata": {},
   "outputs": [],
   "source": [
    "# import pandas as pd\n",
    "\n",
    "# sums = pd.concat((df, df_copy), ignore_index=True)\n",
    "# sums"
   ]
  },
  {
   "cell_type": "code",
   "execution_count": null,
   "metadata": {},
   "outputs": [],
   "source": [
    "# sns.set_style('darkgrid')\n",
    "# ax = sns.lineplot(x='index', y='value', data=df, hue='method', markers=['o' for i in range(7)], style='method', \n",
    "# dashes=False)\n"
   ]
  },
  {
   "cell_type": "code",
   "execution_count": null,
   "metadata": {},
   "outputs": [],
   "source": [
    "# sns.set_style('darkgrid')\n",
    "# bx = sns.barplot(data=df, x='method', y='value', hue='index')\n"
   ]
  }
 ],
 "metadata": {
  "kernelspec": {
   "display_name": "Python 3.8.13 ('xms_torch')",
   "language": "python",
   "name": "python3"
  },
  "language_info": {
   "codemirror_mode": {
    "name": "ipython",
    "version": 3
   },
   "file_extension": ".py",
   "mimetype": "text/x-python",
   "name": "python",
   "nbconvert_exporter": "python",
   "pygments_lexer": "ipython3",
   "version": "3.8.13"
  },
  "orig_nbformat": 4,
  "vscode": {
   "interpreter": {
    "hash": "419209cf9e31416c5930fc7553ba605783d1608c64e9bc9d407f3ec9a261c809"
   }
  }
 },
 "nbformat": 4,
 "nbformat_minor": 2
}
